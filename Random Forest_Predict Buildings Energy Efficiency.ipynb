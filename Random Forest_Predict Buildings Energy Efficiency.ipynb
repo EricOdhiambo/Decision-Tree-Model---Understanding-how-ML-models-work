{
 "cells": [
  {
   "cell_type": "markdown",
   "id": "011e3b73",
   "metadata": {},
   "source": [
    "# Exercise: Supervised vs Unsupervised"
   ]
  },
  {
   "cell_type": "markdown",
   "id": "4befdbbf",
   "metadata": {},
   "source": [
    "This exercise tackles two ML tasks\n",
    "- Supervised learning\n",
    "- Unsupervised learning\n",
    "\n",
    "We will use synthetic data to understand how ML models work with different data, to tackle different real-world scenarios."
   ]
  },
  {
   "cell_type": "markdown",
   "id": "b23a7d3c",
   "metadata": {},
   "source": [
    "\n",
    "## Part 1: Predicting Building Energy Efficiency (Supervised Learning)"
   ]
  },
  {
   "cell_type": "markdown",
   "id": "1e47826b",
   "metadata": {},
   "source": [
    "**Scenario** - We are working for an architecture firm and our task is to build a model that predicts the energy efficiency rating of buildings based on features like wall area, roof area, overall height, etc."
   ]
  },
  {
   "cell_type": "code",
   "execution_count": 4,
   "id": "e20e536c",
   "metadata": {},
   "outputs": [],
   "source": [
    "# Import necessary libraries\n",
    "import pandas as pd\n",
    "import numpy as np\n",
    "import matplotlib.pyplot as plt\n",
    "import seaborn as sns\n",
    "import warnings\n",
    "warnings.filterwarnings('ignore')\n",
    "\n",
    "from sklearn.model_selection import train_test_split\n",
    "from sklearn.ensemble import RandomForestRegressor\n",
    "from sklearn.metrics import mean_squared_error"
   ]
  },
  {
   "cell_type": "code",
   "execution_count": null,
   "id": "25d6f6f6",
   "metadata": {},
   "outputs": [],
   "source": []
  }
 ],
 "metadata": {
  "kernelspec": {
   "display_name": "Python 3",
   "language": "python",
   "name": "python3"
  },
  "language_info": {
   "codemirror_mode": {
    "name": "ipython",
    "version": 3
   },
   "file_extension": ".py",
   "mimetype": "text/x-python",
   "name": "python",
   "nbconvert_exporter": "python",
   "pygments_lexer": "ipython3",
   "version": "3.12.10"
  }
 },
 "nbformat": 4,
 "nbformat_minor": 5
}
