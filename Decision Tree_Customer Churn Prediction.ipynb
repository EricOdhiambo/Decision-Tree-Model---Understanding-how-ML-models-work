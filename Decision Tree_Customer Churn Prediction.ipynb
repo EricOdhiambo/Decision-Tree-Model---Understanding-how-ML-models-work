{
 "cells": [
  {
   "cell_type": "markdown",
   "id": "4efa2689-00fd-4f1a-83a7-8217156a6317",
   "metadata": {},
   "source": [
    "# Understanding how Machine Learning Models work: Using Decision Tree Model to Predict Customer Churn."
   ]
  },
  {
   "cell_type": "markdown",
   "id": "63a3ec0c-5ea4-4642-abef-ac97c29c6f7c",
   "metadata": {},
   "source": [
    "The aim of this project is understand how Machine learning models perform their tasks. We will explore a traditional machine learning model called Decision Tree Model to predict the event/rate at which *customers stop doing business with a company - customer churn*. It features synthetic customer data created from a customer service department. The data contains CustomerId, CustomerAge, MonthlyCharge, CustomerServiceCalls and Churn, our target variable. More details about the different data columns will be highlighted. "
   ]
  },
  {
   "cell_type": "markdown",
   "id": "d93563d8-94bd-4583-b87d-64931afd342e",
   "metadata": {},
   "source": [
    "This project simulates real world scenarios flagged by most marketing departments across different companies, when they notice an increase in customer churn and need a data analyst/data scientist help to identify which customers are most likely to leave, next month, for example. Predicting churn is crucial for business to retain customers by addressing their issues proactively."
   ]
  },
  {
   "cell_type": "code",
   "execution_count": null,
   "id": "dd07b853-2c37-40e0-a7ed-0ec587d66132",
   "metadata": {},
   "outputs": [],
   "source": [
    "In this task, we will build a decision tree model, to predict customer churn from a telecom company. "
   ]
  }
 ],
 "metadata": {
  "kernelspec": {
   "display_name": "Python 3 (ipykernel)",
   "language": "python",
   "name": "python3"
  },
  "language_info": {
   "codemirror_mode": {
    "name": "ipython",
    "version": 3
   },
   "file_extension": ".py",
   "mimetype": "text/x-python",
   "name": "python",
   "nbconvert_exporter": "python",
   "pygments_lexer": "ipython3",
   "version": "3.12.7"
  }
 },
 "nbformat": 4,
 "nbformat_minor": 5
}
