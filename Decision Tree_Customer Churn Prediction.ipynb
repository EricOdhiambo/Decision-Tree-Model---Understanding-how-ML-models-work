{
 "cells": [
  {
   "cell_type": "markdown",
   "id": "4efa2689-00fd-4f1a-83a7-8217156a6317",
   "metadata": {},
   "source": [
    "# Understanding how Machine Learning Models work: Using Decision Tree Model to Predict Customer Churn."
   ]
  },
  {
   "cell_type": "markdown",
   "id": "56d66b23",
   "metadata": {},
   "source": [
    "## Introduction"
   ]
  },
  {
   "cell_type": "markdown",
   "id": "63a3ec0c-5ea4-4642-abef-ac97c29c6f7c",
   "metadata": {},
   "source": [
    "The aim of this project is understand how Machine learning models perform their tasks. We will build a traditional ML model called Decision Tree Model to predict the event/rate at which *customers stop doing business with a company - customer churn*. It features synthetic customer data created from a customer service department. The data contains CustomerId, CustomerAge, MonthlyCharge, CustomerServiceCalls and Churn, our target variable. More details about the different data columns will be highlighted. "
   ]
  },
  {
   "cell_type": "markdown",
   "id": "d93563d8-94bd-4583-b87d-64931afd342e",
   "metadata": {},
   "source": [
    "- This project simulates real world scenarios flagged by most marketing departments across different companies, when they notice an increase in customer churn and need a data analyst/data scientist help to identify which customers are most likely to leave, next month, for example. Predicting churn is crucial for business to retain customers by addressing their issues proactively. In this task, we will build a decision tree model, to predict customer churn from a telecom company. \n",
    "\n"
   ]
  },
  {
   "cell_type": "code",
   "execution_count": 3,
   "id": "dd07b853-2c37-40e0-a7ed-0ec587d66132",
   "metadata": {},
   "outputs": [
    {
     "name": "stdout",
     "output_type": "stream",
     "text": [
      "test\n"
     ]
    }
   ],
   "source": [
    "import numpy as np\n",
    "import pandas as pd\n",
    "\n",
    "\n",
    "print(\"test\")"
   ]
  },
  {
   "cell_type": "code",
   "execution_count": 4,
   "id": "cddc5790",
   "metadata": {},
   "outputs": [
    {
     "name": "stdout",
     "output_type": "stream",
     "text": [
      "test 2\n"
     ]
    }
   ],
   "source": [
    "print(\"test 2\")"
   ]
  },
  {
   "cell_type": "code",
   "execution_count": 5,
   "id": "057bb9c9",
   "metadata": {},
   "outputs": [
    {
     "data": {
      "application/vnd.microsoft.datawrangler.viewer.v0+json": {
       "columns": [
        {
         "name": "index",
         "rawType": "int64",
         "type": "integer"
        },
        {
         "name": "CustomerId",
         "rawType": "int32",
         "type": "integer"
        },
        {
         "name": "CustomerAge",
         "rawType": "int32",
         "type": "integer"
        },
        {
         "name": "MonthlyCharge",
         "rawType": "float64",
         "type": "float"
        },
        {
         "name": "CustomerServiceCalls",
         "rawType": "int32",
         "type": "integer"
        },
        {
         "name": "Churn",
         "rawType": "int32",
         "type": "integer"
        }
       ],
       "ref": "a8fb7913-f9d5-43f2-9245-cdd9f22ae07a",
       "rows": [
        [
         "0",
         "10001",
         "56",
         "73.26",
         "1",
         "0"
        ],
        [
         "1",
         "10002",
         "69",
         "44.25",
         "6",
         "0"
        ],
        [
         "2",
         "10003",
         "46",
         "46.92",
         "1",
         "0"
        ],
        [
         "3",
         "10004",
         "32",
         "57.73",
         "3",
         "0"
        ],
        [
         "4",
         "10005",
         "60",
         "22.01",
         "1",
         "0"
        ]
       ],
       "shape": {
        "columns": 5,
        "rows": 5
       }
      },
      "text/html": [
       "<div>\n",
       "<style scoped>\n",
       "    .dataframe tbody tr th:only-of-type {\n",
       "        vertical-align: middle;\n",
       "    }\n",
       "\n",
       "    .dataframe tbody tr th {\n",
       "        vertical-align: top;\n",
       "    }\n",
       "\n",
       "    .dataframe thead th {\n",
       "        text-align: right;\n",
       "    }\n",
       "</style>\n",
       "<table border=\"1\" class=\"dataframe\">\n",
       "  <thead>\n",
       "    <tr style=\"text-align: right;\">\n",
       "      <th></th>\n",
       "      <th>CustomerId</th>\n",
       "      <th>CustomerAge</th>\n",
       "      <th>MonthlyCharge</th>\n",
       "      <th>CustomerServiceCalls</th>\n",
       "      <th>Churn</th>\n",
       "    </tr>\n",
       "  </thead>\n",
       "  <tbody>\n",
       "    <tr>\n",
       "      <th>0</th>\n",
       "      <td>10001</td>\n",
       "      <td>56</td>\n",
       "      <td>73.26</td>\n",
       "      <td>1</td>\n",
       "      <td>0</td>\n",
       "    </tr>\n",
       "    <tr>\n",
       "      <th>1</th>\n",
       "      <td>10002</td>\n",
       "      <td>69</td>\n",
       "      <td>44.25</td>\n",
       "      <td>6</td>\n",
       "      <td>0</td>\n",
       "    </tr>\n",
       "    <tr>\n",
       "      <th>2</th>\n",
       "      <td>10003</td>\n",
       "      <td>46</td>\n",
       "      <td>46.92</td>\n",
       "      <td>1</td>\n",
       "      <td>0</td>\n",
       "    </tr>\n",
       "    <tr>\n",
       "      <th>3</th>\n",
       "      <td>10004</td>\n",
       "      <td>32</td>\n",
       "      <td>57.73</td>\n",
       "      <td>3</td>\n",
       "      <td>0</td>\n",
       "    </tr>\n",
       "    <tr>\n",
       "      <th>4</th>\n",
       "      <td>10005</td>\n",
       "      <td>60</td>\n",
       "      <td>22.01</td>\n",
       "      <td>1</td>\n",
       "      <td>0</td>\n",
       "    </tr>\n",
       "  </tbody>\n",
       "</table>\n",
       "</div>"
      ],
      "text/plain": [
       "   CustomerId  CustomerAge  MonthlyCharge  CustomerServiceCalls  Churn\n",
       "0       10001           56          73.26                     1      0\n",
       "1       10002           69          44.25                     6      0\n",
       "2       10003           46          46.92                     1      0\n",
       "3       10004           32          57.73                     3      0\n",
       "4       10005           60          22.01                     1      0"
      ]
     },
     "execution_count": 5,
     "metadata": {},
     "output_type": "execute_result"
    }
   ],
   "source": [
    "np.random.seed(42)  # For reproducibility\n",
    "\n",
    "# Number of synthetic customers\n",
    "n_customers = 1000\n",
    "\n",
    "# Generate synthetic data\n",
    "customer_ids = np.arange(10001, 10001 + n_customers)\n",
    "customer_ages = np.random.randint(18, 70, size=n_customers)\n",
    "monthly_charges = np.round(np.random.uniform(20, 120, size=n_customers), 2)\n",
    "customer_service_calls = np.random.poisson(lam=2, size=n_customers)\n",
    "\n",
    "# Churn: 1 if likely to churn, 0 otherwise (simulate higher churn for high service calls & charges)\n",
    "churn_prob = (\n",
    "    0.15\n",
    "    + 0.02 * (monthly_charges > 80)\n",
    "    + 0.10 * (customer_service_calls > 3)\n",
    "    + 0.05 * (customer_ages < 25)\n",
    ")\n",
    "churn = np.random.binomial(1, np.clip(churn_prob, 0, 0.8))\n",
    "\n",
    "# Create DataFrame\n",
    "df = pd.DataFrame({\n",
    "    \"CustomerId\": customer_ids,\n",
    "    \"CustomerAge\": customer_ages,\n",
    "    \"MonthlyCharge\": monthly_charges,\n",
    "    \"CustomerServiceCalls\": customer_service_calls,\n",
    "    \"Churn\": churn\n",
    "})\n",
    "\n",
    "# Display first few rows\n",
    "df.head()"
   ]
  }
 ],
 "metadata": {
  "kernelspec": {
   "display_name": "base",
   "language": "python",
   "name": "python3"
  },
  "language_info": {
   "codemirror_mode": {
    "name": "ipython",
    "version": 3
   },
   "file_extension": ".py",
   "mimetype": "text/x-python",
   "name": "python",
   "nbconvert_exporter": "python",
   "pygments_lexer": "ipython3",
   "version": "3.12.7"
  }
 },
 "nbformat": 4,
 "nbformat_minor": 5
}
