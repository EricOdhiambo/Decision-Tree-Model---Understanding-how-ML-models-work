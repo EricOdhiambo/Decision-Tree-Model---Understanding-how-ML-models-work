{
 "cells": [
  {
   "cell_type": "markdown",
   "id": "011e3b73",
   "metadata": {},
   "source": [
    "# Exercise: Supervised vs Unsupervised"
   ]
  },
  {
   "cell_type": "markdown",
   "id": "4befdbbf",
   "metadata": {},
   "source": [
    "This exercise tackles two ML tasks\n",
    "- Supervised learning\n",
    "- Unsupervised learning\n",
    "\n",
    "We will use synthetic data to understand how ML models work with different data, to tackle different real-world scenarios."
   ]
  },
  {
   "cell_type": "markdown",
   "id": "b23a7d3c",
   "metadata": {},
   "source": [
    "\n",
    "## Part 1: Predicting Building Energy Efficiency (Supervised Learning)"
   ]
  },
  {
   "cell_type": "markdown",
   "id": "1e47826b",
   "metadata": {},
   "source": [
    "**Scenario** - We are working for an architecture firm and our task is to build a model that predicts the energy efficiency rating of buildings based on features like wall area, roof area, overall height, etc."
   ]
  },
  {
   "cell_type": "code",
   "execution_count": 5,
   "id": "e20e536c",
   "metadata": {},
   "outputs": [],
   "source": [
    "# Import necessary libraries\n",
    "import pandas as pd\n",
    "import numpy as np\n",
    "import matplotlib.pyplot as plt\n",
    "import seaborn as sns\n",
    "import warnings\n",
    "warnings.filterwarnings('ignore')\n",
    "\n",
    "from sklearn.model_selection import train_test_split\n",
    "from sklearn.ensemble import RandomForestRegressor\n",
    "from sklearn.metrics import mean_squared_error"
   ]
  },
  {
   "cell_type": "code",
   "execution_count": 6,
   "id": "25d6f6f6",
   "metadata": {},
   "outputs": [
    {
     "name": "stdout",
     "output_type": "stream",
     "text": [
      "    Wall_Area  Roof_Area  Overall_Height  Glazing_Area  Energy_Efficiency\n",
      "0         372        129        3.707861    127.674967           0.976604\n",
      "1         247        194        3.536242    146.700552           1.437294\n",
      "2         317        265        4.915289     88.756717           1.433600\n",
      "3         392        226        3.091534    118.669003           0.509247\n",
      "4         267        116        4.363747    149.490191           1.252491\n",
      "5         395        199        3.665882    124.566658           0.506238\n",
      "6         303        267        3.186901    113.618955           1.484302\n",
      "7         209        257        4.866398     57.807485           0.916967\n",
      "8         221        165        3.794948     82.321520           1.473519\n",
      "9         236        123        2.356751    141.339216           0.867747\n",
      "10        287        228        3.252618     70.100548           0.793187\n",
      "11        270        187        4.344745    134.359036           0.816292\n",
      "12        288        137        4.081241    119.632369           1.230679\n",
      "13        340        211        4.749021     86.632437           0.699673\n",
      "14        258        291        2.778132    102.917427           1.364058\n",
      "15        393        254        4.274581    104.280647           1.090573\n",
      "16        239        189        3.379626    121.405379           1.469911\n",
      "17        287        234        3.720829    101.655594           1.487085\n",
      "18        374        201        4.865140     63.307599           0.685182\n",
      "19        288        141        4.937859    127.345467           1.455782\n"
     ]
    }
   ],
   "source": [
    "# Creating a synthetic dataset for building features and Energy Efficiency rating\n",
    "np.random.seed(0)\n",
    "data_size = 1000\n",
    "data = {\n",
    "    'Wall_Area': np.random.randint(200, 400, data_size),\n",
    "    'Roof_Area': np.random.randint(100, 300, data_size),\n",
    "    'Overall_Height': np.random.uniform(2, 5, data_size),\n",
    "    'Glazing_Area': np.random.uniform(50, 150, data_size),\n",
    "    'Energy_Efficiency': np.random.uniform(0.5, 1.5, data_size)  # Target variable\n",
    "}\n",
    "\n",
    "df = pd.DataFrame(data)\n",
    "print (df.head(20))\n"
   ]
  },
  {
   "cell_type": "code",
   "execution_count": null,
   "id": "176ecd59",
   "metadata": {},
   "outputs": [],
   "source": []
  }
 ],
 "metadata": {
  "kernelspec": {
   "display_name": "base",
   "language": "python",
   "name": "python3"
  },
  "language_info": {
   "codemirror_mode": {
    "name": "ipython",
    "version": 3
   },
   "file_extension": ".py",
   "mimetype": "text/x-python",
   "name": "python",
   "nbconvert_exporter": "python",
   "pygments_lexer": "ipython3",
   "version": "3.12.7"
  }
 },
 "nbformat": 4,
 "nbformat_minor": 5
}
